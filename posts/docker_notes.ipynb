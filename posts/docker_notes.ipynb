{
 "cells": [
  {
   "attachments": {},
   "cell_type": "markdown",
   "metadata": {},
   "source": [
    "---\n",
    "title: \"Docker\"\n",
    "subtitle: \"for ML practicioners\"\n",
    "format: html\n",
    "draft: true\n",
    "---"
   ]
  },
  {
   "attachments": {},
   "cell_type": "markdown",
   "metadata": {},
   "source": [
    "# WIP: My notes on learning docker and terminology\n",
    "\n",
    "### Basic Terminology:\n",
    "\n",
    "1. image - text representation of a software you want to \"dockerize\" so small and light - it is usually in a form of version controlled repository where you have:\n",
    "    * Dockerfile (recipie of how to build and run the image including references to dependencies), \n",
    "    * code of your app if necessary\n",
    "   \n",
    "   you will find example of such an image [here](https://huggingface.co/spaces/misza222/docker-test/tree/main)\n",
    "\n",
    "2. container - runnable instance of an image - with all the dependencies pulled in, so can be heavy\n",
    "\n",
    "3. volume - you can't store any data on a container, as it is not mutable so for persisting data (i.e. logs, db files, model files) use volumes"
   ]
  }
 ],
 "metadata": {
  "kernelspec": {
   "display_name": "base",
   "language": "python",
   "name": "python3"
  },
  "language_info": {
   "name": "python",
   "version": "3.9.12 (main, Apr  5 2022, 01:53:17) \n[Clang 12.0.0 ]"
  },
  "orig_nbformat": 4,
  "vscode": {
   "interpreter": {
    "hash": "fdaea57c0b9010ea74c77e884f0f49a414be4bd0fcb5deeb3a8fb91359695020"
   }
  }
 },
 "nbformat": 4,
 "nbformat_minor": 2
}
