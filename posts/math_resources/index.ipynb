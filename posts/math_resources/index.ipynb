{
 "cells": [
  {
   "cell_type": "raw",
   "metadata": {},
   "source": [
    "---\n",
    "title: \"Math resources\"\n",
    "description: \"All you need to within weeks understand Deep Learning and be reasonably comfortable with papers.\"\n",
    "format: html\n",
    "date: \"11/29/2022\"\n",
    "image: a3bb5dac-dce6-4f65-81e7-cf792c209edd.jpeg\n",
    "---"
   ]
  },
  {
   "attachments": {},
   "cell_type": "markdown",
   "metadata": {},
   "source": [
    "My Uni days are long gone, I was reasonably good at math, but over the years of not using it, I almost feel like the knowledge was never there. \n",
    "\n",
    "Here is my journey through the process of remembering some math that I need to feel more comfortable with for the basics of deep learning and to be able to digest papers in the broad area of deep learning research.\n",
    "\n",
    "Advice to my former self: First read some papers, struggle through them, let the frustration build up so you have a motivation to learn + you will also build an intuition of what tools you may actually need!\n",
    "\n",
    "As for the resouces, I started with [Deep Learninig](https://www.deeplearningbook.org/) book few years ago, but got discouraged by the theory and I didn't have enough practice to know that it will be useful some day.\n",
    "\n",
    "Recently I found out that there is a growing comunity of people around that book led by [Sanyam Buthani](https://twitter.com/bhutanisanyam1/status/1600167351319924736). Apart from the community and help + motivation to learn that comes with it, there are number of resources for self study, such as [notebooks](https://github.com/init27/Deep-Learning-Book-Supplementary-Materials/) with all the concepts translated into code, which makes it so much more practical.\n",
    "\n",
    "Staying around the same book, there are [great lectures](https://www.youtube.com/playlist?list=PLsXu9MHQGs8df5A4PzQGw-kfviylC-R9b) going through each chapter of that book.\n",
    "\n",
    "If you want to learn more about [torch.autograd](https://pytorch.org/tutorials/beginner/blitz/autograd_tutorial.html), frameworks that do automatic differentiation in general and understand calculus that is the engine of deep learning machine there is an excelent [The Matrix Calculus You Need For Deep Learning](https://explained.ai/matrix-calculus/index.html).\n",
    "\n",
    "Another interesting resources are [Mathematics for Machine Learning](https://mml-book.com) and [short lectures](https://www.youtube.com/playlist?list=PLZHQObOWTQDNU6R1_67000Dx_ZCJB-3pi) covering pretty much all you need for the topic in a very accessible, visual and short form.\n",
    "\n",
    "Last but not least, Andrew Ng's advice on [how to read a paper](https://www.youtube.com/watch?v=733m6qBH-jI&t=486s) which I also sumarize [here](how_to_read_an_academic_paper.html)!\n",
    "\n",
    "All these resources are freely available online."
   ]
  },
  {
   "cell_type": "markdown",
   "metadata": {},
   "source": []
  }
 ],
 "metadata": {
  "kernelspec": {
   "display_name": "base",
   "language": "python",
   "name": "python3"
  },
  "language_info": {
   "codemirror_mode": {
    "name": "ipython",
    "version": 3
   },
   "file_extension": ".py",
   "mimetype": "text/x-python",
   "name": "python",
   "nbconvert_exporter": "python",
   "pygments_lexer": "ipython3",
   "version": "3.9.12 (main, Apr  5 2022, 01:53:17) \n[Clang 12.0.0 ]"
  },
  "orig_nbformat": 4,
  "vscode": {
   "interpreter": {
    "hash": "fdaea57c0b9010ea74c77e884f0f49a414be4bd0fcb5deeb3a8fb91359695020"
   }
  }
 },
 "nbformat": 4,
 "nbformat_minor": 2
}
