{
 "cells": [
  {
   "cell_type": "markdown",
   "metadata": {},
   "source": [
    "---\n",
    "title: \"NeRF basics\"\n",
    "description: \"companion post for DSS 2023 conference\"\n",
    "format: html\n",
    "date: \"11/22/2023\"\n",
    "categories: nerf \n",
    "image: \"DALL·E 2023-11-22 20.12.00 - A futuristic Nerf gun designed for the Metaverse. The gun is sleek, with neon lights and digital patterns on its body. It features advanced holographi.png\"\n",
    "draft: false\n",
    "---"
   ]
  },
  {
   "cell_type": "markdown",
   "metadata": {},
   "source": [
    "This is a companion blog post for my presentation given at Data Science Summit 2023 in Warsaw.\n",
    "\n",
    "The presentation itself is on [google docs <img src='apps-google-slides-icon-2048x2044-t0skfbak.png' width=20></img>](https://docs.google.com/presentation/d/11Cal4KENjgOBV56ZLyCbWQiKfNRUKg9XBFBpWgb0IAg/)\n"
   ]
  }
 ],
 "metadata": {
  "language_info": {
   "name": "python"
  }
 },
 "nbformat": 4,
 "nbformat_minor": 2
}
