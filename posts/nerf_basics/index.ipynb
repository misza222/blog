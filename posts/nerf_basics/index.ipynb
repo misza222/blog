{
 "cells": [
  {
   "cell_type": "markdown",
   "metadata": {},
   "source": [
    "---\n",
    "title: \"NeRF basics\"\n",
    "description: \"companion post for DSS 2023 conference\"\n",
    "format: html\n",
    "date: \"11/22/2023\"\n",
    "categories: nerf \n",
    "image: \"DALL·E 2023-11-22 20.12.00 - A futuristic Nerf gun designed for the Metaverse. The gun is sleek, with neon lights and digital patterns on its body. It features advanced holographi.png\"\n",
    "draft: false\n",
    "---"
   ]
  },
  {
   "cell_type": "markdown",
   "metadata": {},
   "source": [
    "This is a companion blog post for my presentation given at Data Science Summit 2023 in Warsaw.\n",
    "\n",
    "The presentation itself is on [google docs <img src='apps-google-slides-icon-2048x2044-t0skfbak.png' width=20></img>](https://docs.google.com/presentation/d/11Cal4KENjgOBV56ZLyCbWQiKfNRUKg9XBFBpWgb0IAg/)\n",
    "\n",
    "<iframe src=\"https://docs.google.com/presentation/d/e/2PACX-1vRBPCvtNcSyrafbym3KndyAZhepWQgi__6pPC3Rb-GPhIp33tsJuYgkeGszu_WMVkYAomw__NQBpdfN/embed?start=false&loop=false&delayms=3000\" frameborder=\"0\" width=\"960\" height=\"569\" allowfullscreen=\"true\" mozallowfullscreen=\"true\" webkitallowfullscreen=\"true\"></iframe>\n"
   ]
  },
  {
   "cell_type": "markdown",
   "metadata": {},
   "source": [
    "Right now I have not much to add to the presentation. But make sure to check out extensive speaker notes there.\n",
    "\n",
    "Below is the dozer that I used as a training data for nerf.studio that is rendered here with poly.cam and lumalabs.ai"
   ]
  },
  {
   "cell_type": "markdown",
   "metadata": {},
   "source": [
    "<iframe src=\"https://poly.cam/capture/82c2ed6c-c7fe-48e4-9242-99def4b2e27a\" title=\"polycam capture viewer\" style=\"height:100%;width:100%;max-height:720px;max-width:1280px;min-height:280px;min-width:280px\" frameborder=\"0\"></iframe>\n",
    "\n",
    "<iframe src=\"https://lumalabs.ai/embed/bbd97af1-c4b4-4e13-a724-0edbf83b746e?mode=sparkles&background=%23ffffff&color=%23000000&showTitle=true&loadBg=true&logoPosition=bottom-left&infoPosition=bottom-right&cinematicVideo=undefined&showMenu=false\" width=\"996\" height=\"500\" frameborder=\"0\" title=\"luma embed\" style=\"border: none;\"></iframe>"
   ]
  },
  {
   "cell_type": "markdown",
   "metadata": {},
   "source": []
  }
 ],
 "metadata": {
  "language_info": {
   "name": "python"
  }
 },
 "nbformat": 4,
 "nbformat_minor": 2
}
