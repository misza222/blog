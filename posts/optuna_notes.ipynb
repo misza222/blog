{
 "cells": [
  {
   "cell_type": "markdown",
   "metadata": {},
   "source": [
    "---\n",
    "title: \"Optuna\"\n",
    "subtitle: \"is hot on Kaggle\"\n",
    "format: html\n",
    "---"
   ]
  },
  {
   "attachments": {},
   "cell_type": "markdown",
   "metadata": {},
   "source": [
    "# Optuna - the choice of Kagglers\n",
    "\n",
    "While doing [HF RL course](https://huggingface.co/deep-rl-course/) I bumped into Optuna.\n",
    "\n",
    "Some vocab to get started:\n",
    " - `objective(trial)` function - function to optimize\n",
    " - trial - a single test, also an object passed to the objective function \n",
    " - study - a set of trial at the end of which you get a suggestion of parameters to use\n",
    " - parameter - parameter to optimize\n",
    " - setting initial values for parameters to optimize:\n",
    "   * optuna.trial.Trial.suggest_categeorical('name', ['list'])\n",
    "   * optuna.trial.Trial.suggest_int('name', min, max)\n",
    "   * optuna.trial.Trial.suggest_float('name', min, max)\n",
    "   \n",
    "\n",
    "Here is a quick summary of how to use it:"
   ]
  },
  {
   "cell_type": "code",
   "execution_count": 88,
   "metadata": {},
   "outputs": [
    {
     "data": {
      "text/plain": [
       "10.069140289320362"
      ]
     },
     "execution_count": 88,
     "metadata": {},
     "output_type": "execute_result"
    }
   ],
   "source": [
    "import optuna\n",
    "optuna.logging.set_verbosity(optuna.logging.WARNING) # to supress unnecessary output\n",
    "\n",
    "# with 100 trials find a minimum for a function (x-10)**2\n",
    "def objective(trial):\n",
    "    x = trial.suggest_float(\"x\", -100, 100)\n",
    "    return (x - 10)**2\n",
    "\n",
    "study = optuna.create_study()\n",
    "study.optimize(objective, n_trials=100)\n",
    "\n",
    "study.best_params['x'] #pretty close"
   ]
  },
  {
   "cell_type": "code",
   "execution_count": 92,
   "metadata": {},
   "outputs": [
    {
     "data": {
      "text/plain": [
       "28.394424972253262"
      ]
     },
     "execution_count": 92,
     "metadata": {},
     "output_type": "execute_result"
    }
   ],
   "source": [
    "# however it won't do magic - here if you give it just 10 trial, \n",
    "# it will usually miss quite substantially\n",
    "\n",
    "# however with 10 trials...\n",
    "def objective(trial):\n",
    "    x = trial.suggest_float(\"x\", -100, 100)\n",
    "    return (x - 10)**2\n",
    "\n",
    "study = optuna.create_study()\n",
    "study.optimize(objective, n_trials=10)\n",
    "\n",
    "study.best_params['x'] # ... it is usually not so good"
   ]
  },
  {
   "attachments": {},
   "cell_type": "markdown",
   "metadata": {},
   "source": [
    "how optuna works internally is quite simple but ingenious: each call to `trial.suggest_*()` function already suggests a python object, so you can use it in your code straight away:"
   ]
  },
  {
   "cell_type": "code",
   "execution_count": 90,
   "metadata": {},
   "outputs": [
    {
     "name": "stdout",
     "output_type": "stream",
     "text": [
      "next i=0\n",
      "next i=20\n",
      "next i=40\n",
      "next i=10\n",
      "next i=90\n",
      "next i=40\n",
      "next i=80\n",
      "next i=50\n",
      "next i=90\n",
      "next i=0\n"
     ]
    },
    {
     "data": {
      "text/plain": [
       "0"
      ]
     },
     "execution_count": 90,
     "metadata": {},
     "output_type": "execute_result"
    }
   ],
   "source": [
    "study = optuna.create_study()\n",
    "def objective(trial):\n",
    "    i = trial.suggest_int('x', 0, 100, step=10)\n",
    "    print(f\"next {i=}\")\n",
    "    return i\n",
    "\n",
    "study.optimize(objective, n_trials=10)\n",
    "study.best_params['x']"
   ]
  },
  {
   "attachments": {},
   "cell_type": "markdown",
   "metadata": {},
   "source": [
    "also it is quite interesting how the numbers are drawn from the space - this is all random and duplicates are possible. Especially if we have very limited space of available unique values as in here. This is not an implementation bug - here we deal with a single variable, but if we have multiple ones, it quite makes sense to try simillar values if we variate other parameters at the same time."
   ]
  },
  {
   "attachments": {},
   "cell_type": "markdown",
   "metadata": {},
   "source": [
    "## Useful tricks!\n",
    "\n",
    "#### Continue the optimization"
   ]
  },
  {
   "cell_type": "code",
   "execution_count": 91,
   "metadata": {},
   "outputs": [
    {
     "data": {
      "text/plain": [
       "10.802422942208281"
      ]
     },
     "execution_count": 91,
     "metadata": {},
     "output_type": "execute_result"
    }
   ],
   "source": [
    "# however with 10 trials...\n",
    "def objective(trial):\n",
    "    x = trial.suggest_float(\"x\", -100, 100)\n",
    "    return (x - 10)**2\n",
    "\n",
    "study = optuna.create_study()\n",
    "study.optimize(objective, n_trials=10)\n",
    "\n",
    "study.best_params['x'] # ... it is usually not so good\n",
    "\n",
    "# but training for another 10 iterations does the trick\n",
    "study.optimize(objective, n_trials=10)\n",
    "\n",
    "study.best_params['x'] # ok, now it is better :)"
   ]
  },
  {
   "attachments": {},
   "cell_type": "markdown",
   "metadata": {},
   "source": [
    "#### Use a db to tune on multiple machines\n",
    "\n",
    "Or just run hiperparameter searches when your colab disconnects\n",
    "\n",
    "Optuna allows for distrubuted trials"
   ]
  },
  {
   "cell_type": "code",
   "execution_count": null,
   "metadata": {},
   "outputs": [],
   "source": [
    "#straight from optuna docs @ https://optuna.readthedocs.io/en/stable/tutorial/10_key_features/004_distributed.html\n",
    "def objective(trial):\n",
    "    x = trial.suggest_float(\"x\", -10, 10)\n",
    "    return (x - 2) ** 2\n",
    "\n",
    "\n",
    "if __name__ == \"__main__\":\n",
    "    study = optuna.load_study(\n",
    "        study_name=\"distributed-example\", storage=\"mysql://root@localhost/example\"\n",
    "    )\n",
    "    study.optimize(objective, n_trials=100)"
   ]
  },
  {
   "attachments": {},
   "cell_type": "markdown",
   "metadata": {},
   "source": [
    "#### Searching strategies\n",
    "\n",
    "TBD"
   ]
  }
 ],
 "metadata": {
  "kernelspec": {
   "display_name": "base",
   "language": "python",
   "name": "python3"
  },
  "language_info": {
   "codemirror_mode": {
    "name": "ipython",
    "version": 3
   },
   "file_extension": ".py",
   "mimetype": "text/x-python",
   "name": "python",
   "nbconvert_exporter": "python",
   "pygments_lexer": "ipython3",
   "version": "3.9.12"
  },
  "orig_nbformat": 4,
  "vscode": {
   "interpreter": {
    "hash": "fdaea57c0b9010ea74c77e884f0f49a414be4bd0fcb5deeb3a8fb91359695020"
   }
  }
 },
 "nbformat": 4,
 "nbformat_minor": 2
}
