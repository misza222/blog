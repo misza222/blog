{
 "cells": [
  {
   "attachments": {},
   "cell_type": "markdown",
   "metadata": {},
   "source": [
    "---\n",
    "title: \"How to read papers?\"\n",
    "subtitle: \"advice from Andrew Ng\"\n",
    "format: html\n",
    "---"
   ]
  },
  {
   "attachments": {},
   "cell_type": "markdown",
   "metadata": {},
   "source": [
    "Andrew Ng gave an [career advice lecture](https://www.youtube.com/watch?v=733m6qBH-jI) at Stanford in 2019 where he also mentioned [how to read academic papers](https://www.youtube.com/watch?v=733m6qBH-jI&t=460s).\n",
    "\n",
    "Read it taking multiple passes through the paper:\n",
    "\n",
    " 1. Title + Abstract + Figures\n",
    " 2. Intro + Conclusions + Figures + Skim rest\n",
    " 3. Read text but skip math\n",
    " 4. Read all of it but skip what doesn't make sense\n",
    "\n",
    "which boils down to: \n",
    "\n",
    "### *Go from __efficient__ and __high information__ content __first__ and dig into the harder bits gradually*\n",
    "\n",
    "Some of the questions to keep in mind during the process (and to decide whether to go to the next step):\n",
    "\n",
    " * What did authors try to acomplish?\n",
    " * What are the key elements of the approach?\n",
    " * What can you use yourself?\n",
    " * What other references do you want to follow?\n",
    "\n",
    "It is worth watching, as it also sumarizes the process of creating and reviewing the paper to give rationale for that process."
   ]
  }
 ],
 "metadata": {
  "kernelspec": {
   "display_name": "base",
   "language": "python",
   "name": "python3"
  },
  "language_info": {
   "name": "python",
   "version": "3.9.12 (main, Apr  5 2022, 01:53:17) \n[Clang 12.0.0 ]"
  },
  "orig_nbformat": 4,
  "vscode": {
   "interpreter": {
    "hash": "fdaea57c0b9010ea74c77e884f0f49a414be4bd0fcb5deeb3a8fb91359695020"
   }
  }
 },
 "nbformat": 4,
 "nbformat_minor": 2
}
