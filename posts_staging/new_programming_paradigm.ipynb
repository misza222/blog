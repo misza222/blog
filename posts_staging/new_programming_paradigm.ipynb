{
 "cells": [
  {
   "cell_type": "code",
   "execution_count": null,
   "metadata": {},
   "outputs": [],
   "source": [
    "Software 2.0 as a new programming paradigm.\n",
    "\n",
    "- for certain class of problems\n",
    "- compexity\n",
    "- bias in data\n",
    "\n",
    "see https://www.youtube.com/watch?v=orY5aLMDU-I"
   ]
  }
 ],
 "metadata": {
  "kernelspec": {
   "display_name": "base",
   "language": "python",
   "name": "python3"
  },
  "language_info": {
   "name": "python",
   "version": "3.9.12 (main, Apr  5 2022, 01:53:17) \n[Clang 12.0.0 ]"
  },
  "orig_nbformat": 4,
  "vscode": {
   "interpreter": {
    "hash": "fdaea57c0b9010ea74c77e884f0f49a414be4bd0fcb5deeb3a8fb91359695020"
   }
  }
 },
 "nbformat": 4,
 "nbformat_minor": 2
}
